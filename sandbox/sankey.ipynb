{
 "cells": [
  {
   "cell_type": "code",
   "execution_count": 2,
   "metadata": {},
   "outputs": [
    {
     "name": "stdout",
     "output_type": "stream",
     "text": [
      "Excess Savings: $0\n",
      "Gross In: $235,177 | Gross Out: $235,177\n"
     ]
    },
    {
     "data": {
      "application/vnd.plotly.v1+json": {
       "config": {
        "plotlyServerURL": "https://plot.ly"
       },
       "data": [
        {
         "link": {
          "source": [
           59,
           16,
           21,
           1,
           14,
           48,
           57,
           19,
           46,
           52,
           50,
           43,
           43,
           0,
           0,
           0,
           0,
           33,
           33,
           33,
           36,
           39,
           35,
           25,
           58,
           29,
           5,
           43,
           44,
           44,
           44,
           43,
           56,
           56,
           56,
           43,
           9,
           24,
           24,
           24,
           24,
           24,
           24,
           24,
           24,
           24,
           37,
           37,
           37,
           47,
           47,
           12,
           12,
           12,
           23,
           23,
           23,
           45,
           45,
           45,
           27,
           27,
           2,
           2,
           15,
           15,
           15,
           15
          ],
          "target": [
           43,
           43,
           43,
           43,
           43,
           9,
           9,
           9,
           9,
           9,
           0,
           0,
           33,
           36,
           39,
           35,
           25,
           58,
           29,
           5,
           42,
           42,
           42,
           42,
           42,
           42,
           42,
           44,
           26,
           10,
           17,
           56,
           7,
           31,
           30,
           24,
           24,
           37,
           47,
           12,
           23,
           45,
           27,
           2,
           15,
           60,
           40,
           49,
           41,
           8,
           53,
           62,
           18,
           6,
           61,
           54,
           55,
           13,
           34,
           3,
           4,
           11,
           20,
           28,
           38,
           22,
           32,
           51
          ],
          "value": [
           112411,
           121467,
           281,
           615,
           403,
           450,
           795,
           700,
           711,
           1062,
           10586,
           8990,
           33726,
           5500,
           5086,
           4150,
           4840,
           13000,
           13945,
           6781,
           5500,
           5086,
           4150,
           4840,
           13000,
           13945,
           6781,
           62455.7128,
           33693.47,
           11484.7463,
           17277.4965,
           4525,
           1255,
           2908,
           362,
           125480.2872,
           3718,
           56862,
           2469,
           10089,
           9110,
           4007,
           1012,
           22597,
           23053,
           -0.7127999999938766,
           54000,
           120,
           2742,
           2469,
           1173,
           2988,
           3600,
           3501,
           2260,
           2085,
           4765,
           1342,
           847,
           1818,
           547,
           465,
           14644,
           7953,
           10493,
           9403,
           1855,
           1302
          ]
         },
         "node": {
          "color": "blue",
          "label": [
           "Pre-Tax Retirement",
           "RH House Acc. Dividends",
           "Food & Supplies",
           "Clothes",
           "Subscriptions",
           "Roth 401k",
           "Student Loans",
           "Med/Dent/Vis (Becca)",
           "Car Insurance",
           "Other 'Income'",
           "State",
           "CC Fees",
           "Loans",
           "Hair Care",
           "RH House Acc. LT Cap. Gains",
           "General Discretionary",
           "Wages (Becca)",
           "FICA",
           "Wedding Loan",
           "Late Wedding Gift",
           "Groceries & Home",
           "Savings Acc. Interest",
           "Travel",
           "Health",
           "Net Income (Roth IRAs Excluded)",
           "FERS (Pension)",
           "Federal",
           "Subscriptions & Fees",
           "Restaurants",
           "Roth TSP",
           "FEGLI",
           "FEHB/FEDVIP (Austin)",
           "Gifts",
           "Post-Tax Retirement (Roth IRAs Included)",
           "Cosmetics",
           "HSA",
           "TSP (Trad.)",
           "Housing & Utilities",
           "Activities",
           "401k (Trad.)",
           "Rent",
           "Utilities",
           "Retirement (Total)",
           "Gross Income",
           "Taxes",
           "Beauty",
           "RH House Acc. Cost-Basis Withdrawal",
           "Car (Loan Excluded)",
           "ANCHOR",
           "Renter's Insurance",
           "Employer Match (TSP & 401k, Trad.)",
           "Other Discretionary",
           "CC Rewards Statement Credits",
           "Gas, Tolls & Maintenance",
           "Austin Gym",
           "Medical (Post-Tax)",
           "Insurance Premiums",
           "2023 Tax Return",
           "Roth IRAs x2",
           "Wages (Austin)",
           "Excess Savings",
           "Becca Gym",
           "Car Loan"
          ],
          "line": {
           "color": "black",
           "width": 1
          },
          "pad": 15,
          "thickness": 30
         },
         "type": "sankey"
        }
       ],
       "layout": {
        "font": {
         "size": 10
        },
        "height": 800,
        "template": {
         "data": {
          "bar": [
           {
            "error_x": {
             "color": "#2a3f5f"
            },
            "error_y": {
             "color": "#2a3f5f"
            },
            "marker": {
             "line": {
              "color": "#E5ECF6",
              "width": 0.5
             },
             "pattern": {
              "fillmode": "overlay",
              "size": 10,
              "solidity": 0.2
             }
            },
            "type": "bar"
           }
          ],
          "barpolar": [
           {
            "marker": {
             "line": {
              "color": "#E5ECF6",
              "width": 0.5
             },
             "pattern": {
              "fillmode": "overlay",
              "size": 10,
              "solidity": 0.2
             }
            },
            "type": "barpolar"
           }
          ],
          "carpet": [
           {
            "aaxis": {
             "endlinecolor": "#2a3f5f",
             "gridcolor": "white",
             "linecolor": "white",
             "minorgridcolor": "white",
             "startlinecolor": "#2a3f5f"
            },
            "baxis": {
             "endlinecolor": "#2a3f5f",
             "gridcolor": "white",
             "linecolor": "white",
             "minorgridcolor": "white",
             "startlinecolor": "#2a3f5f"
            },
            "type": "carpet"
           }
          ],
          "choropleth": [
           {
            "colorbar": {
             "outlinewidth": 0,
             "ticks": ""
            },
            "type": "choropleth"
           }
          ],
          "contour": [
           {
            "colorbar": {
             "outlinewidth": 0,
             "ticks": ""
            },
            "colorscale": [
             [
              0,
              "#0d0887"
             ],
             [
              0.1111111111111111,
              "#46039f"
             ],
             [
              0.2222222222222222,
              "#7201a8"
             ],
             [
              0.3333333333333333,
              "#9c179e"
             ],
             [
              0.4444444444444444,
              "#bd3786"
             ],
             [
              0.5555555555555556,
              "#d8576b"
             ],
             [
              0.6666666666666666,
              "#ed7953"
             ],
             [
              0.7777777777777778,
              "#fb9f3a"
             ],
             [
              0.8888888888888888,
              "#fdca26"
             ],
             [
              1,
              "#f0f921"
             ]
            ],
            "type": "contour"
           }
          ],
          "contourcarpet": [
           {
            "colorbar": {
             "outlinewidth": 0,
             "ticks": ""
            },
            "type": "contourcarpet"
           }
          ],
          "heatmap": [
           {
            "colorbar": {
             "outlinewidth": 0,
             "ticks": ""
            },
            "colorscale": [
             [
              0,
              "#0d0887"
             ],
             [
              0.1111111111111111,
              "#46039f"
             ],
             [
              0.2222222222222222,
              "#7201a8"
             ],
             [
              0.3333333333333333,
              "#9c179e"
             ],
             [
              0.4444444444444444,
              "#bd3786"
             ],
             [
              0.5555555555555556,
              "#d8576b"
             ],
             [
              0.6666666666666666,
              "#ed7953"
             ],
             [
              0.7777777777777778,
              "#fb9f3a"
             ],
             [
              0.8888888888888888,
              "#fdca26"
             ],
             [
              1,
              "#f0f921"
             ]
            ],
            "type": "heatmap"
           }
          ],
          "heatmapgl": [
           {
            "colorbar": {
             "outlinewidth": 0,
             "ticks": ""
            },
            "colorscale": [
             [
              0,
              "#0d0887"
             ],
             [
              0.1111111111111111,
              "#46039f"
             ],
             [
              0.2222222222222222,
              "#7201a8"
             ],
             [
              0.3333333333333333,
              "#9c179e"
             ],
             [
              0.4444444444444444,
              "#bd3786"
             ],
             [
              0.5555555555555556,
              "#d8576b"
             ],
             [
              0.6666666666666666,
              "#ed7953"
             ],
             [
              0.7777777777777778,
              "#fb9f3a"
             ],
             [
              0.8888888888888888,
              "#fdca26"
             ],
             [
              1,
              "#f0f921"
             ]
            ],
            "type": "heatmapgl"
           }
          ],
          "histogram": [
           {
            "marker": {
             "pattern": {
              "fillmode": "overlay",
              "size": 10,
              "solidity": 0.2
             }
            },
            "type": "histogram"
           }
          ],
          "histogram2d": [
           {
            "colorbar": {
             "outlinewidth": 0,
             "ticks": ""
            },
            "colorscale": [
             [
              0,
              "#0d0887"
             ],
             [
              0.1111111111111111,
              "#46039f"
             ],
             [
              0.2222222222222222,
              "#7201a8"
             ],
             [
              0.3333333333333333,
              "#9c179e"
             ],
             [
              0.4444444444444444,
              "#bd3786"
             ],
             [
              0.5555555555555556,
              "#d8576b"
             ],
             [
              0.6666666666666666,
              "#ed7953"
             ],
             [
              0.7777777777777778,
              "#fb9f3a"
             ],
             [
              0.8888888888888888,
              "#fdca26"
             ],
             [
              1,
              "#f0f921"
             ]
            ],
            "type": "histogram2d"
           }
          ],
          "histogram2dcontour": [
           {
            "colorbar": {
             "outlinewidth": 0,
             "ticks": ""
            },
            "colorscale": [
             [
              0,
              "#0d0887"
             ],
             [
              0.1111111111111111,
              "#46039f"
             ],
             [
              0.2222222222222222,
              "#7201a8"
             ],
             [
              0.3333333333333333,
              "#9c179e"
             ],
             [
              0.4444444444444444,
              "#bd3786"
             ],
             [
              0.5555555555555556,
              "#d8576b"
             ],
             [
              0.6666666666666666,
              "#ed7953"
             ],
             [
              0.7777777777777778,
              "#fb9f3a"
             ],
             [
              0.8888888888888888,
              "#fdca26"
             ],
             [
              1,
              "#f0f921"
             ]
            ],
            "type": "histogram2dcontour"
           }
          ],
          "mesh3d": [
           {
            "colorbar": {
             "outlinewidth": 0,
             "ticks": ""
            },
            "type": "mesh3d"
           }
          ],
          "parcoords": [
           {
            "line": {
             "colorbar": {
              "outlinewidth": 0,
              "ticks": ""
             }
            },
            "type": "parcoords"
           }
          ],
          "pie": [
           {
            "automargin": true,
            "type": "pie"
           }
          ],
          "scatter": [
           {
            "fillpattern": {
             "fillmode": "overlay",
             "size": 10,
             "solidity": 0.2
            },
            "type": "scatter"
           }
          ],
          "scatter3d": [
           {
            "line": {
             "colorbar": {
              "outlinewidth": 0,
              "ticks": ""
             }
            },
            "marker": {
             "colorbar": {
              "outlinewidth": 0,
              "ticks": ""
             }
            },
            "type": "scatter3d"
           }
          ],
          "scattercarpet": [
           {
            "marker": {
             "colorbar": {
              "outlinewidth": 0,
              "ticks": ""
             }
            },
            "type": "scattercarpet"
           }
          ],
          "scattergeo": [
           {
            "marker": {
             "colorbar": {
              "outlinewidth": 0,
              "ticks": ""
             }
            },
            "type": "scattergeo"
           }
          ],
          "scattergl": [
           {
            "marker": {
             "colorbar": {
              "outlinewidth": 0,
              "ticks": ""
             }
            },
            "type": "scattergl"
           }
          ],
          "scattermapbox": [
           {
            "marker": {
             "colorbar": {
              "outlinewidth": 0,
              "ticks": ""
             }
            },
            "type": "scattermapbox"
           }
          ],
          "scatterpolar": [
           {
            "marker": {
             "colorbar": {
              "outlinewidth": 0,
              "ticks": ""
             }
            },
            "type": "scatterpolar"
           }
          ],
          "scatterpolargl": [
           {
            "marker": {
             "colorbar": {
              "outlinewidth": 0,
              "ticks": ""
             }
            },
            "type": "scatterpolargl"
           }
          ],
          "scatterternary": [
           {
            "marker": {
             "colorbar": {
              "outlinewidth": 0,
              "ticks": ""
             }
            },
            "type": "scatterternary"
           }
          ],
          "surface": [
           {
            "colorbar": {
             "outlinewidth": 0,
             "ticks": ""
            },
            "colorscale": [
             [
              0,
              "#0d0887"
             ],
             [
              0.1111111111111111,
              "#46039f"
             ],
             [
              0.2222222222222222,
              "#7201a8"
             ],
             [
              0.3333333333333333,
              "#9c179e"
             ],
             [
              0.4444444444444444,
              "#bd3786"
             ],
             [
              0.5555555555555556,
              "#d8576b"
             ],
             [
              0.6666666666666666,
              "#ed7953"
             ],
             [
              0.7777777777777778,
              "#fb9f3a"
             ],
             [
              0.8888888888888888,
              "#fdca26"
             ],
             [
              1,
              "#f0f921"
             ]
            ],
            "type": "surface"
           }
          ],
          "table": [
           {
            "cells": {
             "fill": {
              "color": "#EBF0F8"
             },
             "line": {
              "color": "white"
             }
            },
            "header": {
             "fill": {
              "color": "#C8D4E3"
             },
             "line": {
              "color": "white"
             }
            },
            "type": "table"
           }
          ]
         },
         "layout": {
          "annotationdefaults": {
           "arrowcolor": "#2a3f5f",
           "arrowhead": 0,
           "arrowwidth": 1
          },
          "autotypenumbers": "strict",
          "coloraxis": {
           "colorbar": {
            "outlinewidth": 0,
            "ticks": ""
           }
          },
          "colorscale": {
           "diverging": [
            [
             0,
             "#8e0152"
            ],
            [
             0.1,
             "#c51b7d"
            ],
            [
             0.2,
             "#de77ae"
            ],
            [
             0.3,
             "#f1b6da"
            ],
            [
             0.4,
             "#fde0ef"
            ],
            [
             0.5,
             "#f7f7f7"
            ],
            [
             0.6,
             "#e6f5d0"
            ],
            [
             0.7,
             "#b8e186"
            ],
            [
             0.8,
             "#7fbc41"
            ],
            [
             0.9,
             "#4d9221"
            ],
            [
             1,
             "#276419"
            ]
           ],
           "sequential": [
            [
             0,
             "#0d0887"
            ],
            [
             0.1111111111111111,
             "#46039f"
            ],
            [
             0.2222222222222222,
             "#7201a8"
            ],
            [
             0.3333333333333333,
             "#9c179e"
            ],
            [
             0.4444444444444444,
             "#bd3786"
            ],
            [
             0.5555555555555556,
             "#d8576b"
            ],
            [
             0.6666666666666666,
             "#ed7953"
            ],
            [
             0.7777777777777778,
             "#fb9f3a"
            ],
            [
             0.8888888888888888,
             "#fdca26"
            ],
            [
             1,
             "#f0f921"
            ]
           ],
           "sequentialminus": [
            [
             0,
             "#0d0887"
            ],
            [
             0.1111111111111111,
             "#46039f"
            ],
            [
             0.2222222222222222,
             "#7201a8"
            ],
            [
             0.3333333333333333,
             "#9c179e"
            ],
            [
             0.4444444444444444,
             "#bd3786"
            ],
            [
             0.5555555555555556,
             "#d8576b"
            ],
            [
             0.6666666666666666,
             "#ed7953"
            ],
            [
             0.7777777777777778,
             "#fb9f3a"
            ],
            [
             0.8888888888888888,
             "#fdca26"
            ],
            [
             1,
             "#f0f921"
            ]
           ]
          },
          "colorway": [
           "#636efa",
           "#EF553B",
           "#00cc96",
           "#ab63fa",
           "#FFA15A",
           "#19d3f3",
           "#FF6692",
           "#B6E880",
           "#FF97FF",
           "#FECB52"
          ],
          "font": {
           "color": "#2a3f5f"
          },
          "geo": {
           "bgcolor": "white",
           "lakecolor": "white",
           "landcolor": "#E5ECF6",
           "showlakes": true,
           "showland": true,
           "subunitcolor": "white"
          },
          "hoverlabel": {
           "align": "left"
          },
          "hovermode": "closest",
          "mapbox": {
           "style": "light"
          },
          "paper_bgcolor": "white",
          "plot_bgcolor": "#E5ECF6",
          "polar": {
           "angularaxis": {
            "gridcolor": "white",
            "linecolor": "white",
            "ticks": ""
           },
           "bgcolor": "#E5ECF6",
           "radialaxis": {
            "gridcolor": "white",
            "linecolor": "white",
            "ticks": ""
           }
          },
          "scene": {
           "xaxis": {
            "backgroundcolor": "#E5ECF6",
            "gridcolor": "white",
            "gridwidth": 2,
            "linecolor": "white",
            "showbackground": true,
            "ticks": "",
            "zerolinecolor": "white"
           },
           "yaxis": {
            "backgroundcolor": "#E5ECF6",
            "gridcolor": "white",
            "gridwidth": 2,
            "linecolor": "white",
            "showbackground": true,
            "ticks": "",
            "zerolinecolor": "white"
           },
           "zaxis": {
            "backgroundcolor": "#E5ECF6",
            "gridcolor": "white",
            "gridwidth": 2,
            "linecolor": "white",
            "showbackground": true,
            "ticks": "",
            "zerolinecolor": "white"
           }
          },
          "shapedefaults": {
           "line": {
            "color": "#2a3f5f"
           }
          },
          "ternary": {
           "aaxis": {
            "gridcolor": "white",
            "linecolor": "white",
            "ticks": ""
           },
           "baxis": {
            "gridcolor": "white",
            "linecolor": "white",
            "ticks": ""
           },
           "bgcolor": "#E5ECF6",
           "caxis": {
            "gridcolor": "white",
            "linecolor": "white",
            "ticks": ""
           }
          },
          "title": {
           "x": 0.05
          },
          "xaxis": {
           "automargin": true,
           "gridcolor": "white",
           "linecolor": "white",
           "ticks": "",
           "title": {
            "standoff": 15
           },
           "zerolinecolor": "white",
           "zerolinewidth": 2
          },
          "yaxis": {
           "automargin": true,
           "gridcolor": "white",
           "linecolor": "white",
           "ticks": "",
           "title": {
            "standoff": 15
           },
           "zerolinecolor": "white",
           "zerolinewidth": 2
          }
         }
        },
        "title": {
         "text": "Projected 2024 Income and Expenses"
        }
       }
      }
     },
     "metadata": {},
     "output_type": "display_data"
    }
   ],
   "source": [
    "import csv\n",
    "from pathlib import Path\n",
    "import plotly.graph_objects as go\n",
    "\n",
    "\n",
    "# Map csv data to variables\n",
    "path = Path(\"~/.finances\").expanduser() / \"historical_transactions\" / \"2024_sankey_data.csv\"\n",
    "data = {}\n",
    "with open(path, mode='r') as file:\n",
    "    reader = csv.DictReader(file)\n",
    "    for row in reader:\n",
    "        data[row['item']] = int(row['amount'])\n",
    "\n",
    "\n",
    "wages_a = data['wages_a'] # Austin\n",
    "wages_b = data['wages_b'] # Becca\n",
    "savings_int = data['savings_int']\n",
    "rh_div = data['rh_div']\n",
    "rh_gains = data['rh_gains']\n",
    "rh_costbasis = data['rh_costbasis']\n",
    "cc_stmt_credits = data['cc_stmt_credits'] # Statement credits for Amazon, AmEx, USBank only\n",
    "\n",
    "anchor = data['anchor']\n",
    "tax_ret_2023 = data['tax_ret_2023'] # $30 cost to file\n",
    "wedding_gift = data['wedding_gift']\n",
    "\n",
    "emp_match_a = data['emp_match_a']\n",
    "emp_match_b = data['emp_match_b']\n",
    "hsa = data['hsa']\n",
    "fers = data['fers']\n",
    "\n",
    "rh_disc_tax_fed = (rh_div + rh_gains) * 0.24 + savings_int * 0.15\n",
    "rh_disc_tax_state = (savings_int + rh_div + rh_gains) * 0.0637\n",
    "disc_tax_fica = savings_int * (0.062 + 0.0145)\n",
    "tax_fed = data['tax_fed_wages'] + rh_disc_tax_fed\n",
    "tax_state = data['tax_state_wages'] + rh_disc_tax_state\n",
    "tax_fica = data['tax_fica_wages'] + disc_tax_fica\n",
    "\n",
    "ira_2023_max = 6500\n",
    "roth_iras = ira_2023_max * 2\n",
    "roth_tsp = data['roth_tsp']\n",
    "roth_401k = data['roth_401k']\n",
    "\n",
    "health_ins_a = data['health_ins_a']\n",
    "health_ins_b = data['health_ins_b']\n",
    "fegli = data['fegli']\n",
    "\n",
    "net_a = data['net_a']\n",
    "net_b = data['net_b']\n",
    "net_rh_disc = savings_int + rh_div + rh_gains - (rh_disc_tax_fed + rh_disc_tax_state + disc_tax_fica)\n",
    "\n",
    "# Housing:\n",
    "rent = data['rent']\n",
    "rent_ins = data['rent_ins']\n",
    "utilities = data['utilities'] # PSEG, Internet, Phone\n",
    "housing_and_utilities = rent + rent_ins + utilities\n",
    "\n",
    "# Car (no loans):\n",
    "car_ins = data['car_ins']\n",
    "gas = data['gas']\n",
    "tolls = data['tolls']\n",
    "car_maint = data['car_maint'] # For one oil change and registration renewal\n",
    "car_total_no_loans = car_ins + gas + tolls + car_maint\n",
    "\n",
    "# Loans:\n",
    "car_loan = data['car_loan']\n",
    "car_loan_parents = data['car_loan_parents'] # Only 3 payments (1/1, 4/1, 7/1)\n",
    "wedding_loan = data['wedding_loan'] # 4 payments (1/1, 4/1, 7/1, 10/1)\n",
    "student_loans = data['student_loans']\n",
    "loans_total = car_loan + car_loan_parents + wedding_loan + student_loans\n",
    "\n",
    "# Health:\n",
    "becca_gyms = data['becca_gyms'] # Assume same price as last year for Base annual membership?\n",
    "austin_gym = data['austin_gym'] # Assuming monthly w/o switch to annual in Nov.\n",
    "medical = data['medical'] # Medical/doctor/therapy/dental bills and CVS/Duane Reade/etc charges\n",
    "health = becca_gyms + austin_gym + medical\n",
    "\n",
    "# Beauty:\n",
    "haircuts = data['haircuts']\n",
    "cosmetics = data['cosmetics']\n",
    "clothes = data['clothes']\n",
    "beauty = haircuts + cosmetics + clothes\n",
    "\n",
    "# Subscriptions and fees:\n",
    "subscriptions = data['subscriptions'] # Headspace, Amazon, Amazon photos, apple, paramount+, adobe, spotify\n",
    "cc_fees = data['cc_fees']\n",
    "subscriptions_and_fees = subscriptions + cc_fees\n",
    "\n",
    "# Food/groceries/supplies/staples:\n",
    "groceries_and_home = data['groceries_and_home'] # Includes house supplies, home improvement, etc.\n",
    "restaurants = data['restaurants']\n",
    "food_and_supplies = groceries_and_home + restaurants\n",
    "\n",
    "# Variable discretionary:\n",
    "activities = data['activities'] # Concerts, bars, NYC activities, liquor store purchases, etc. (excludes travel)\n",
    "travel = data['travel']\n",
    "gifts = data['gifts'] # Gifts for anyone other than us two\n",
    "other_discretionary = data['other_discretionary'] # New headphones, parking tickets, fridge magnets, etc.\n",
    "variable_discretionary = activities + travel + gifts + other_discretionary\n",
    "\n",
    "# Excess savings:\n",
    "net_income = sum((\n",
    "    net_a,\n",
    "    net_b,\n",
    "    net_rh_disc,\n",
    "    anchor,\n",
    "    tax_ret_2023,\n",
    "    wedding_gift,\n",
    "    rh_costbasis,\n",
    "    cc_stmt_credits\n",
    "))\n",
    "excess_savings = net_income - sum((\n",
    "    housing_and_utilities,\n",
    "    car_total_no_loans,\n",
    "    loans_total,\n",
    "    health,\n",
    "    beauty,\n",
    "    subscriptions_and_fees,\n",
    "    food_and_supplies,\n",
    "    variable_discretionary\n",
    "))\n",
    "print(f\"Excess Savings: ${int(excess_savings):,}\")\n",
    "\n",
    "\n",
    "# Check Gross Income inflows and outflows (should be equal)\n",
    "gross_in = wages_a + wages_b + savings_int + rh_div + rh_gains\n",
    "gross_out = sum((\n",
    "    hsa,\n",
    "    fers,\n",
    "    roth_iras,\n",
    "    roth_tsp,\n",
    "    roth_401k,\n",
    "    tax_fed,\n",
    "    tax_state,\n",
    "    tax_fica,\n",
    "    health_ins_a,\n",
    "    health_ins_b,\n",
    "    fegli,\n",
    "    net_a,\n",
    "    net_b,\n",
    "    net_rh_disc\n",
    "))\n",
    "print(f\"Gross In: ${gross_in:,}\", \"|\", f\"Gross Out: ${int(gross_out):,}\" )\n",
    "\n",
    "\n",
    "# List of tuples in the form (source, value, target)\n",
    "flows = [\n",
    "    # Income Sources\n",
    "    (\"Wages (Austin)\", wages_a, \"Gross Income\"),\n",
    "    (\"Wages (Becca)\", wages_b, \"Gross Income\"),\n",
    "    (\"Savings Acc. Interest\", savings_int, \"Gross Income\"),\n",
    "    (\"RH House Acc. Dividends\", rh_div, \"Gross Income\"),\n",
    "    (\"RH House Acc. LT Cap. Gains\", rh_gains, \"Gross Income\"),\n",
    "\n",
    "    (\"ANCHOR\", anchor, \"Other 'Income'\"),\n",
    "    (\"2023 Tax Return\", tax_ret_2023, \"Other 'Income'\"),\n",
    "    (\"Late Wedding Gift\", wedding_gift, \"Other 'Income'\"),\n",
    "    (\"RH House Acc. Cost-Basis Withdrawal\", rh_costbasis, \"Other 'Income'\"),\n",
    "    (\"CC Rewards Statement Credits\", cc_stmt_credits, \"Other 'Income'\"),\n",
    "\n",
    "    # Retirement\n",
    "    (\"Employer Match (TSP & 401k, Trad.)\", emp_match_a + emp_match_b, \"Pre-Tax Retirement\"),\n",
    "    (\"Gross Income\", hsa + fers, \"Pre-Tax Retirement\"),\n",
    "    (\"Gross Income\", roth_iras + roth_tsp + roth_401k, \"Post-Tax Retirement (Roth IRAs Included)\"),\n",
    "\n",
    "    (\"Pre-Tax Retirement\", emp_match_a, \"TSP (Trad.)\"),\n",
    "    (\"Pre-Tax Retirement\", emp_match_b, \"401k (Trad.)\"),\n",
    "    (\"Pre-Tax Retirement\", hsa, \"HSA\"),\n",
    "    (\"Pre-Tax Retirement\", fers, \"FERS (Pension)\"),\n",
    "\n",
    "    (\"Post-Tax Retirement (Roth IRAs Included)\", roth_iras, \"Roth IRAs x2\"),\n",
    "    (\"Post-Tax Retirement (Roth IRAs Included)\", roth_tsp, \"Roth TSP\"),\n",
    "    (\"Post-Tax Retirement (Roth IRAs Included)\", roth_401k, \"Roth 401k\"),\n",
    "\n",
    "    (\"TSP (Trad.)\", emp_match_a, \"Retirement (Total)\"),\n",
    "    (\"401k (Trad.)\", emp_match_b, \"Retirement (Total)\"),\n",
    "    (\"HSA\", hsa, \"Retirement (Total)\"),\n",
    "    (\"FERS (Pension)\", fers, \"Retirement (Total)\"),\n",
    "    (\"Roth IRAs x2\", roth_iras, \"Retirement (Total)\"),\n",
    "    (\"Roth TSP\", roth_tsp, \"Retirement (Total)\"),\n",
    "    (\"Roth 401k\", roth_401k, \"Retirement (Total)\"),\n",
    "\n",
    "    # Taxes\n",
    "    (\"Gross Income\", tax_fed + tax_state + tax_fica, \"Taxes\"),\n",
    "    (\"Taxes\", tax_fed, \"Federal\"),\n",
    "    (\"Taxes\", tax_state, \"State\"),\n",
    "    (\"Taxes\", tax_fica, \"FICA\"),\n",
    "\n",
    "    # Insurance Premiums\n",
    "    (\"Gross Income\", health_ins_a + health_ins_b + fegli, \"Insurance Premiums\"),\n",
    "    (\"Insurance Premiums\", health_ins_b, \"Med/Dent/Vis (Becca)\"),\n",
    "    (\"Insurance Premiums\", health_ins_a, \"FEHB/FEDVIP (Austin)\"),\n",
    "    (\"Insurance Premiums\", fegli, \"FEGLI\"),\n",
    "\n",
    "    # Net Income\n",
    "    (\"Gross Income\", net_a + net_b + net_rh_disc, \"Net Income (Roth IRAs Excluded)\"),\n",
    "    (\"Other 'Income'\", anchor + tax_ret_2023 + wedding_gift + rh_costbasis + cc_stmt_credits, \"Net Income (Roth IRAs Excluded)\"),\n",
    "\n",
    "    (\"Net Income (Roth IRAs Excluded)\", housing_and_utilities, \"Housing & Utilities\"),\n",
    "    (\"Net Income (Roth IRAs Excluded)\", car_total_no_loans, \"Car (Loan Excluded)\"),\n",
    "    (\"Net Income (Roth IRAs Excluded)\", loans_total, \"Loans\"),\n",
    "    (\"Net Income (Roth IRAs Excluded)\", health, \"Health\"),\n",
    "    (\"Net Income (Roth IRAs Excluded)\", beauty, \"Beauty\"),\n",
    "    (\"Net Income (Roth IRAs Excluded)\", subscriptions_and_fees, \"Subscriptions & Fees\"),\n",
    "    (\"Net Income (Roth IRAs Excluded)\", food_and_supplies, \"Food & Supplies\"),\n",
    "    (\"Net Income (Roth IRAs Excluded)\", variable_discretionary, \"General Discretionary\"),\n",
    "    (\"Net Income (Roth IRAs Excluded)\", excess_savings, \"Excess Savings\"),\n",
    "\n",
    "    (\"Housing & Utilities\", rent, \"Rent\"),\n",
    "    (\"Housing & Utilities\", rent_ins, \"Renter's Insurance\"),\n",
    "    (\"Housing & Utilities\", utilities, \"Utilities\"),\n",
    "\n",
    "    (\"Car (Loan Excluded)\", car_total_no_loans, \"Car Insurance\"),\n",
    "    (\"Car (Loan Excluded)\", gas + tolls + car_maint, \"Gas, Tolls & Maintenance\"),\n",
    "\n",
    "    (\"Loans\", car_loan + car_loan_parents, \"Car Loan\"),\n",
    "    (\"Loans\", wedding_loan, \"Wedding Loan\"),\n",
    "    (\"Loans\", student_loans, \"Student Loans\"),\n",
    "\n",
    "    (\"Health\", becca_gyms, \"Becca Gym\"),\n",
    "    (\"Health\", austin_gym, \"Austin Gym\"),\n",
    "    (\"Health\", medical, \"Medical (Post-Tax)\"),\n",
    "\n",
    "    (\"Beauty\", haircuts, \"Hair Care\"),\n",
    "    (\"Beauty\", cosmetics, \"Cosmetics\"),\n",
    "    (\"Beauty\", clothes, \"Clothes\"),\n",
    "\n",
    "    (\"Subscriptions & Fees\", subscriptions, \"Subscriptions\"),\n",
    "    (\"Subscriptions & Fees\", cc_fees, \"CC Fees\"),\n",
    "\n",
    "    (\"Food & Supplies\", groceries_and_home, \"Groceries & Home\"),\n",
    "    (\"Food & Supplies\", restaurants, \"Restaurants\"),\n",
    "\n",
    "    (\"General Discretionary\", activities, \"Activities\"),\n",
    "    (\"General Discretionary\", travel, \"Travel\"),\n",
    "    (\"General Discretionary\", gifts, \"Gifts\"),\n",
    "    (\"General Discretionary\", other_discretionary, \"Other Discretionary\"),\n",
    "]\n",
    "\n",
    "# Extract unique labels (nodes) and map each label to its index\n",
    "labels = list(set([item for src, _, tgt in flows for item in (src, tgt)]))\n",
    "label_to_index = {label: idx for idx, label in enumerate(labels)}\n",
    "\n",
    "# Map source and target labels to indices using the dictionary\n",
    "source_indices = [label_to_index[src] for src, _, tgt in flows]\n",
    "target_indices = [label_to_index[tgt] for src, _, tgt in flows]\n",
    "values = [value for _, value, _ in flows]\n",
    "\n",
    "# Create Sankey diagram\n",
    "fig = go.Figure(data=[go.Sankey(\n",
    "    node=dict(\n",
    "        pad=15,\n",
    "        thickness=30,\n",
    "        line=dict(color=\"black\", width=1),\n",
    "        label=labels,\n",
    "        color=\"blue\"\n",
    "    ),\n",
    "    link=dict(\n",
    "        source=source_indices,\n",
    "        target=target_indices,\n",
    "        value=values\n",
    "    )\n",
    ")])\n",
    "\n",
    "fig.update_layout(\n",
    "    title_text=\"Projected 2024 Income and Expenses\",\n",
    "    height=800,\n",
    "    font_size=10\n",
    ")\n",
    "fig.show()\n"
   ]
  }
 ],
 "metadata": {
  "kernelspec": {
   "display_name": "Python 3",
   "language": "python",
   "name": "python3"
  },
  "language_info": {
   "codemirror_mode": {
    "name": "ipython",
    "version": 3
   },
   "file_extension": ".py",
   "mimetype": "text/x-python",
   "name": "python",
   "nbconvert_exporter": "python",
   "pygments_lexer": "ipython3",
   "version": "3.12.2"
  }
 },
 "nbformat": 4,
 "nbformat_minor": 2
}
