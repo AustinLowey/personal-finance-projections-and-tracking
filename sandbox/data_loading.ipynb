{
 "cells": [
  {
   "cell_type": "code",
   "execution_count": 8,
   "metadata": {},
   "outputs": [
    {
     "name": "stdout",
     "output_type": "stream",
     "text": [
      "C:\\Users\\alowe\\.finances\\recurring_transactions\\20240901_rec_trans.csv\n"
     ]
    }
   ],
   "source": [
    "from pathlib import Path\n",
    "\n",
    "path = Path(\"~/.finances\").expanduser() / \"recurring_transactions\"\n",
    "files = list(path.glob(\"*.csv\"))\n",
    "files.sort()\n",
    "if files:\n",
    "    print(files[-1])\n",
    "else:\n",
    "    print(f\"No files in {path}\")"
   ]
  }
 ],
 "metadata": {
  "kernelspec": {
   "display_name": "Python 3",
   "language": "python",
   "name": "python3"
  },
  "language_info": {
   "codemirror_mode": {
    "name": "ipython",
    "version": 3
   },
   "file_extension": ".py",
   "mimetype": "text/x-python",
   "name": "python",
   "nbconvert_exporter": "python",
   "pygments_lexer": "ipython3",
   "version": "3.12.2"
  }
 },
 "nbformat": 4,
 "nbformat_minor": 2
}
