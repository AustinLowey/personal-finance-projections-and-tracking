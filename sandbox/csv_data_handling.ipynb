{
 "cells": [
  {
   "cell_type": "code",
   "execution_count": null,
   "metadata": {},
   "outputs": [],
   "source": [
    "# Pseudo-code\n",
    "\n",
    "\"\"\"\n",
    "def project_recurring_transactions(\n",
    "    rec_trans: df,\n",
    "    projection length: int - ex: 3 months into future\n",
    ") -> df:\n",
    "    Create a new, empty df (cash_flow) that will be the function output\n",
    "    frequency_map = {dict mapping frequency column (weekly, monthly, etc) with how to update current_date}\n",
    "    start_date = datetime.now().date()\n",
    "    projection_end_date = 3 months after start_date\n",
    "    For each row in rec_trans df:\n",
    "        if start_date is later than end_date column value:\n",
    "            print warning message to consider updating rec_trans csv\n",
    "            continue\n",
    "        current_date = start_date\n",
    "        prorate_statement_closing = True\n",
    "        while current_date <= projection_end_date:\n",
    "            if precise_on_date == False and prorate_statement_closing == True:\n",
    "                transaction_amount = prorated amount\n",
    "                prorate_statement_closing = False # Only first instance of that transaction type gets prorated\n",
    "            else:\n",
    "                transaction_amount = full amount\n",
    "            add a new row to cash_flow with transaction_amount, date (equal to current_date), transaction name, category, and charge_to\n",
    "            increment current_date based on frequency/frequency_map\n",
    "    return cash_flow\n",
    "\n",
    "\n",
    "def project_supplemental_transactions(\n",
    "    rec_trans_projection: df,\n",
    "    maybe also start date and/or projection length to keep user from entering out-of-range transactions?\n",
    ") -> df:\n",
    "    Gui interface with user to get extra transactions (placeholder text with rec_trans_projection for becca OT rows)\n",
    "    return a new df with a row for each extra/supplemental transaction (df has same cols as rec_trans_projection)\n",
    "\n",
    "\n",
    "rec_trans_projection = project_recurring_transactions(...)\n",
    "supp_trans_projection = project_supplemental_transactions(...)\n",
    "merge the 2 dataframes\n",
    "sort the newly merged df\n",
    "add a current balances row and current bank, cc, statement balances columns (and also possibly banks-cc statement and banks-cc total cols)\n",
    "add rows at end of all 11th and 13th transactions for statement paid and statement closing\n",
    "execute all of the calculations row by row to fill in all of the new columns for banks and cc balances\n",
    "\"\"\""
   ]
  },
  {
   "cell_type": "code",
   "execution_count": null,
   "metadata": {},
   "outputs": [],
   "source": [
    "from pathlib import Path\n",
    "import pandas as pd\n",
    "\n",
    "path = Path(\"~/.finances\").expanduser() / \"current_balances\" / \"20240907_curr_bals.csv\"\n",
    "curr_bals = pd.read_csv(path)\n",
    "cols = [\"statement_balance\", \"current_balance\"]\n",
    "for col in cols:\n",
    "    curr_bals[col] = curr_bals[col].replace(r'[\\$, ]', '', regex=True)\n",
    "    curr_bals[col] = pd.to_numeric(curr_bals[col], errors=\"coerce\")\n",
    "curr_bals.head()"
   ]
  },
  {
   "cell_type": "code",
   "execution_count": null,
   "metadata": {},
   "outputs": [],
   "source": [
    "from pathlib import Path\n",
    "import pandas as pd\n",
    "\n",
    "path = Path(\"~/.finances\").expanduser() / \"supplemental_transactions\" / \"20240907_supp_trans.csv\"\n",
    "supp_trans_projection = pd.read_csv(path)\n",
    "cols = [\"transaction_amount\"]\n",
    "for col in cols:\n",
    "    supp_trans_projection[col] = supp_trans_projection[col].replace(r'[\\$, ]', '', regex=True)\n",
    "    supp_trans_projection[col] = pd.to_numeric(supp_trans_projection[col], errors=\"coerce\")\n",
    "supp_trans_projection[\"date\"] = pd.to_datetime(supp_trans_projection[\"date\"])\n",
    "supp_trans_projection.head()"
   ]
  },
  {
   "cell_type": "code",
   "execution_count": null,
   "metadata": {},
   "outputs": [],
   "source": [
    "from pathlib import Path\n",
    "import pandas as pd\n",
    "\n",
    "path = Path(\"~/.finances\").expanduser() / \"recurring_transactions\" / \"20240901_rec_trans.csv\"\n",
    "rec_trans = pd.read_csv(path)\n",
    "cols = [\"amount\"]\n",
    "for col in cols:\n",
    "    rec_trans[col] = rec_trans[col].replace(r'[\\$, ]', '', regex=True)\n",
    "    rec_trans[col] = pd.to_numeric(rec_trans[col], errors=\"coerce\")\n",
    "rec_trans[\"on_date\"] = pd.to_datetime(rec_trans[\"on_date\"])\n",
    "rec_trans.head()"
   ]
  }
 ],
 "metadata": {
  "kernelspec": {
   "display_name": "Python 3",
   "language": "python",
   "name": "python3"
  },
  "language_info": {
   "codemirror_mode": {
    "name": "ipython",
    "version": 3
   },
   "file_extension": ".py",
   "mimetype": "text/x-python",
   "name": "python",
   "nbconvert_exporter": "python",
   "pygments_lexer": "ipython3",
   "version": "3.12.2"
  }
 },
 "nbformat": 4,
 "nbformat_minor": 2
}
