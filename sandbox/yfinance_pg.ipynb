{
 "cells": [
  {
   "cell_type": "code",
   "execution_count": 1,
   "metadata": {},
   "outputs": [],
   "source": [
    "import pandas as pd\n",
    "import yfinance as yf"
   ]
  },
  {
   "cell_type": "code",
   "execution_count": 2,
   "metadata": {},
   "outputs": [
    {
     "name": "stderr",
     "output_type": "stream",
     "text": [
      "[*********************100%%**********************]  4 of 4 completed\n"
     ]
    }
   ],
   "source": [
    "# Define ticker symbols\n",
    "tickerSymbols = ['AAPL', 'MSFT', 'GOOGL', 'SPY']\n",
    "\n",
    "# Download data\n",
    "data = yf.download(tickerSymbols, period='1d')\n",
    "\n",
    "# The data for the most recent trading day will be in the last row if you requested '1d' period\n",
    "# However, for a more general approach, especially if using a different period,\n",
    "# you would need to ensure you're selecting the correct date."
   ]
  },
  {
   "cell_type": "code",
   "execution_count": 3,
   "metadata": {},
   "outputs": [
    {
     "name": "stdout",
     "output_type": "stream",
     "text": [
      "Price Ticker   Adj Close       Close        High         Low        Open  \\\n",
      "0       AAPL  224.315002  224.315002  225.695007  223.039993  225.695007   \n",
      "1      GOOGL  165.630005  165.630005  165.860001  164.259995  165.210007   \n",
      "2       MSFT  418.691589  418.691589  419.869995  416.470001  419.070007   \n",
      "3        SPY  556.940002  556.940002  556.989990  553.859985  554.729980   \n",
      "\n",
      "Price    Volume  \n",
      "0      17940074  \n",
      "1      10240258  \n",
      "2       4832907  \n",
      "3      13909811  \n"
     ]
    },
    {
     "name": "stderr",
     "output_type": "stream",
     "text": [
      "C:\\Users\\alowe\\AppData\\Local\\Temp\\ipykernel_30848\\3784770157.py:2: FutureWarning: The previous implementation of stack is deprecated and will be removed in a future version of pandas. See the What's New notes for pandas 2.1.0 for details. Specify future_stack=True to adopt the new implementation and silence this warning.\n",
      "  data_stacked = data.stack(level=1).reset_index()\n"
     ]
    }
   ],
   "source": [
    "# To reshape the data, you can stack and reset the index\n",
    "data_stacked = data.stack(level=1).reset_index()\n",
    "\n",
    "# Rename the columns for clarity if desired\n",
    "data_stacked.rename(columns={'level_1': 'Ticker'}, inplace=True)\n",
    "\n",
    "# Drop the 'Date' column if it's not needed\n",
    "data_stacked.drop('Date', axis=1, inplace=True)\n",
    "\n",
    "print(data_stacked)"
   ]
  },
  {
   "cell_type": "code",
   "execution_count": 4,
   "metadata": {},
   "outputs": [
    {
     "data": {
      "text/plain": [
       "(4, 7)"
      ]
     },
     "execution_count": 4,
     "metadata": {},
     "output_type": "execute_result"
    }
   ],
   "source": [
    "data_stacked.shape"
   ]
  }
 ],
 "metadata": {
  "kernelspec": {
   "display_name": "Python 3",
   "language": "python",
   "name": "python3"
  },
  "language_info": {
   "codemirror_mode": {
    "name": "ipython",
    "version": 3
   },
   "file_extension": ".py",
   "mimetype": "text/x-python",
   "name": "python",
   "nbconvert_exporter": "python",
   "pygments_lexer": "ipython3",
   "version": "3.12.2"
  }
 },
 "nbformat": 4,
 "nbformat_minor": 2
}
